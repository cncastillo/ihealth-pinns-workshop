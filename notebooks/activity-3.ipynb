{
 "cells": [
  {
   "cell_type": "markdown",
   "metadata": {},
   "source": [
    "# Inverse applications\n",
    "\n",
    "By David Ortiz and Rodrigo Salas, 2024\n",
    "\n",
    "Interesting paper about [parameter estimation](https://arxiv.org/abs/2308.00927) in blood flown problem.\n",
    "\n",
    "## Activity overview\n",
    "\n",
    "In this activity, we will code a PINN to estimate the diffusion coefficient of the linear 1D heat equation.\n",
    "\n",
    "## Activity goals\n",
    "\n",
    "By the end of this activity, you should be able to:\n",
    "\n",
    " - use the PINN method to solve inverse problem,\n",
    " - while, training a PINN to solve the diffusion problem\n",
    "\n",
    "\n",
    "## Mathematical description of the problem\n",
    "In this activity, we will consider the one dimensional diffusion model, usually called 1D heat equation, defined on activity 2, i.e., \n",
    "$$\n",
    "\\begin{alignat*}{3}\n",
    "    \\text{PDE:} \\quad & \\frac{\\partial u}{\\partial t} &&= \\kappa\\frac{\\partial^2 u}{\\partial x^2} - e^{-t}(\\sin(\\pi x) - \\pi^2 \\kappa \\sin(\\pi x)), \\quad && x \\in [-1, 1], \\quad t \\in [0, 1]. \\quad \\kappa\\in\\mathbb{R}\\\\\n",
    "    \\text{Solution:} \\quad & u(t,x) &&= e^{-t} \\sin(\\pi x)\n",
    "\\end{alignat*}\n",
    "$$\n",
    "\n",
    "where $u(t,x)$ is the quantity of interest (e.g., temperature, concentration) at the point $x\\in[-1,1]$ and at time $t\\in[0,1]$ and $\\kappa = 1$ is the diffusion coefficient that we want to estimate.\n",
    "\n",
    "Notice that for this case, we do not need the initial conditions and the boundary conditions, but we need additional information. This information comes from data  observation \n",
    "\n",
    "$$\n",
    "\\mathcal{L}(\\Theta) := \\lambda_1 MSE(\\theta_{NN}(t; \\Theta), \\theta_{data}(t)) = \\frac{\\lambda_1}{N}\\sum_i (\\theta_{NN}(t_i; \\Theta) - \\theta_{data}(t_i))^2\n",
    "$$"
   ]
  }
 ],
 "metadata": {
  "language_info": {
   "name": "python"
  }
 },
 "nbformat": 4,
 "nbformat_minor": 2
}
