{
 "cells": [
  {
   "cell_type": "markdown",
   "metadata": {},
   "source": [
    "# Forward applications\n",
    "\n",
    "By David Ortiz and Rodrigo Salas, 2024\n",
    "\n",
    "## Activity overview\n",
    "\n",
    "In this activity, \n",
    "\n",
    "## Activity goals\n",
    "\n",
    "By the end of this activity, you should be able to:\n",
    "\n",
    " - understand the need of numerical solution to complex models\n",
    " - understand the advantages of using Physics-Informed Neural Networks (PINNs) compared to common Artificial Neural Networks (ANN)\n",
    " - train data-driven PINNs using PyTorch\n",
    " - solve non-linear models using PINNs\n",
    "\n",
    "\n",
    "## Mathematical description of the problem\n",
    "\n",
    "$$\n",
    "\\begin{alignat*}{3}\n",
    "    \\text{PDE:} \\quad & \\frac{\\partial y}{\\partial t} &&= \\kappa\\frac{\\partial^2 y}{\\partial x^2} - e^{-t}(\\sin(\\pi x) - \\pi^2 \\kappa \\sin(\\pi x)), \\quad && x \\in [-1, 1], \\quad t \\in [0, 1]. \\quad \\kappa\\in\\R \\\\\n",
    "\\end{alignat*}\n",
    "$$\n",
    "\n",
    "\n",
    "$$\n",
    "\\begin{alignat*}{3}\n",
    "    \\text{PDE:} \\quad & \\frac{\\partial y}{\\partial t} &&= \\kappa\\frac{\\partial^2 y}{\\partial x^2} - e^{-t}(\\sin(\\pi x) - \\pi^2 \\kappa \\sin(\\pi x)), \\quad && x \\in [-1, 1], \\quad t \\in [0, 1]. \\quad \\kappa\\in\\R \\\\\n",
    "    \\text{IC:} \\quad & y(x, 0) &&= \\sin(\\pi x), && x \\in [-1, 1] \\\\\n",
    "    \\text{BC:} \\quad & y(-1, t)&& = y(1, t)= 0, && t \\in [0, 1] \\\\\n",
    "    \\text{Solution:} \\quad & y(x, t) &&= e^{-t} \\sin(\\pi x)\n",
    "\\end{alignat*}\n",
    "$$"
   ]
  },
  {
   "cell_type": "markdown",
   "metadata": {},
   "source": [
    "## Initial setup\n",
    "\n",
    "We begin by importing some usefull packages, and defining some functions"
   ]
  },
  {
   "cell_type": "code",
   "execution_count": null,
   "metadata": {},
   "outputs": [],
   "source": [
    "# Import NumPy for numerical operations\n",
    "import numpy as np\n",
    "# Import PyTorch for building and training neural networks\n",
    "import torch\n",
    "import torch.nn as nn\n",
    "import torch.optim as optim\n",
    "# Import Matplotlib for plotting\n",
    "import matplotlib.pyplot as plt\n",
    "# Import a utility module \n",
    "import utils \n",
    "# Import the time module to time our training process\n",
    "import time\n",
    "# Ignore Warning Messages\n",
    "import warnings\n",
    "warnings.filterwarnings(\"ignore\")"
   ]
  },
  {
   "cell_type": "code",
   "execution_count": null,
   "metadata": {},
   "outputs": [],
   "source": []
  }
 ],
 "metadata": {
  "kernelspec": {
   "display_name": "pinn-ihealth-tutorial",
   "language": "python",
   "name": "python3"
  },
  "language_info": {
   "name": "python",
   "version": "3.12.3"
  }
 },
 "nbformat": 4,
 "nbformat_minor": 2
}
